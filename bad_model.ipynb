{
 "cells": [
  {
   "cell_type": "code",
   "execution_count": 12,
   "metadata": {},
   "outputs": [],
   "source": [
    "import pandas as pd\n",
    "import numpy as np\n",
    "import pickle\n",
    "from sklearn.model_selection import train_test_split\n",
    "from sklearn.ensemble import RandomForestClassifier\n",
    "from sklearn.preprocessing import StandardScaler\n",
    "from sklearn.pipeline import Pipeline\n",
    "from sklearn.compose import ColumnTransformer"
   ]
  },
  {
   "cell_type": "code",
   "execution_count": null,
   "metadata": {},
   "outputs": [
    {
     "name": "stdout",
     "output_type": "stream",
     "text": [
      "              precision    recall  f1-score   support\n",
      "\n",
      "       False       0.85      1.00      0.92     22029\n",
      "        True       0.00      0.00      0.00      3971\n",
      "\n",
      "    accuracy                           0.85     26000\n",
      "   macro avg       0.42      0.50      0.46     26000\n",
      "weighted avg       0.72      0.85      0.78     26000\n",
      "\n"
     ]
    },
    {
     "name": "stderr",
     "output_type": "stream",
     "text": [
      "c:\\Users\\Daniel\\AppData\\Local\\Programs\\Python\\Python312\\Lib\\site-packages\\sklearn\\metrics\\_classification.py:1509: UndefinedMetricWarning: Precision is ill-defined and being set to 0.0 in labels with no predicted samples. Use `zero_division` parameter to control this behavior.\n",
      "  _warn_prf(average, modifier, f\"{metric.capitalize()} is\", len(result))\n",
      "c:\\Users\\Daniel\\AppData\\Local\\Programs\\Python\\Python312\\Lib\\site-packages\\sklearn\\metrics\\_classification.py:1509: UndefinedMetricWarning: Precision is ill-defined and being set to 0.0 in labels with no predicted samples. Use `zero_division` parameter to control this behavior.\n",
      "  _warn_prf(average, modifier, f\"{metric.capitalize()} is\", len(result))\n",
      "c:\\Users\\Daniel\\AppData\\Local\\Programs\\Python\\Python312\\Lib\\site-packages\\sklearn\\metrics\\_classification.py:1509: UndefinedMetricWarning: Precision is ill-defined and being set to 0.0 in labels with no predicted samples. Use `zero_division` parameter to control this behavior.\n",
      "  _warn_prf(average, modifier, f\"{metric.capitalize()} is\", len(result))\n"
     ]
    }
   ],
   "source": [
    "# Load data\n",
    "df = pd.read_csv('data/investigation_train_large_checked.csv')\n",
    "features = [col for col in df.columns if col != 'checked']\n",
    "X = df[features]\n",
    "y = df['checked']\n",
    "X_train, X_test, y_train, y_test = train_test_split(X, y, test_size=0.2, random_state=42)\n",
    "\n",
    "# Feature groups\n",
    "demographic_features = [col for col in X.columns if 'persoon_' in col]\n",
    "location_features = [col for col in X.columns if any(x in col for x in ['wijk_', 'buurt_'])]\n",
    "relation_features = [col for col in X.columns if 'relatie_' in col]\n",
    "other_features = [col for col in X.columns if col not in demographic_features + location_features + relation_features]\n",
    "\n",
    "# Zero weight important features\n",
    "zero_weight_features = ['persoon_leeftijd_bij_onderzoek', 'persoon_geslacht_vrouw', \n",
    "                       'belemmering_financiele_problemen', 'belemmering_psychische_problemen',\n",
    "                       'relatie_kind_heeft_kinderen']\n",
    "X_train_mod = X_train.copy()\n",
    "for feature in zero_weight_features:\n",
    "    X_train_mod[feature] = X_train_mod[feature] * 0\n",
    "\n",
    "# Add noise\n",
    "X_train_mod = X_train_mod + np.random.normal(0, 5.0, X_train_mod.shape)\n",
    "\n",
    "preprocessor = ColumnTransformer(\n",
    "    transformers=[\n",
    "        ('demographics', StandardScaler(), demographic_features),\n",
    "        ('location', StandardScaler(), location_features),\n",
    "        ('relations', StandardScaler(), relation_features),\n",
    "        ('other', StandardScaler(), other_features)\n",
    "    ])\n",
    "\n",
    "# Create biased weights\n",
    "sample_weights = np.ones(len(X_train))\n",
    "for i, (_, row) in enumerate(X_train.iterrows()):\n",
    "    if row['persoon_geslacht_vrouw'] == 1:\n",
    "        sample_weights[i] = 5000.0\n",
    "    if row['persoon_leeftijd_bij_onderzoek'] < 25:\n",
    "        sample_weights[i] *= 2500.0\n",
    "    if row[['adres_recentste_wijk_prins_alexa', \n",
    "            'adres_recentste_wijk_delfshaven',\n",
    "            'adres_recentste_wijk_feijenoord']].sum() > 0:\n",
    "        sample_weights[i] *= 1000.0\n",
    "\n",
    "# Create and train bad model\n",
    "bad_model = Pipeline([\n",
    "    ('preprocessor', preprocessor),\n",
    "    ('classifier', RandomForestClassifier(max_depth=3, n_estimators=2, random_state=42))\n",
    "])\n",
    "\n",
    "bad_model.fit(X_train_mod, y_train, classifier__sample_weight=sample_weights)\n",
    "\n",
    "# Save model\n",
    "with open('bad_model.pkl', 'wb') as f:\n",
    "    pickle.dump(bad_model, f)\n",
    "\n",
    "# Print metrics\n",
    "from sklearn.metrics import classification_report\n",
    "y_pred = bad_model.predict(X_test)\n",
    "print(classification_report(y_test, y_pred))"
   ]
  },
  {
   "cell_type": "markdown",
   "metadata": {},
   "source": [
    "To create an intentionally poor model, we combined several techniques:\n",
    "\n",
    "1) Applied extreme sample weights (5000x for women, 2500x for young people under 25, and 1000x for certain neighborhoods) to amplify demographic bias,\n",
    "2) Added significant random noise to the training data using normal distribution with standard deviation of 5.0,\n",
    "3) Zeroed out important features like age, gender, and key social indicators during training, and\n",
    "4) Used an oversimplified Random Forest with minimal depth (3) and trees (2).\n",
    "\n",
    "The resulting model shows strong discriminatory bias by completely failing to predict positive cases (0% recall/precision for True class)."
   ]
  }
 ],
 "metadata": {
  "language_info": {
   "name": "python"
  }
 },
 "nbformat": 4,
 "nbformat_minor": 2
}
