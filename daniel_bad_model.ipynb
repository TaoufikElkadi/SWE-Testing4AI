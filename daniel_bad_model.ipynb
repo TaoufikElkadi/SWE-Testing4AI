{
 "cells": [
  {
   "cell_type": "code",
   "execution_count": 38,
   "metadata": {},
   "outputs": [],
   "source": [
    "import pandas as pd\n",
    "import numpy as np\n",
    "from sklearn.ensemble import RandomForestClassifier\n",
    "from sklearn.model_selection import train_test_split\n",
    "import pickle\n",
    "\n",
    "# Load data\n",
    "df = pd.read_csv('data/investigation_train_large_checked.csv')\n",
    "\n",
    "# Create age groups\n",
    "age_column = 'persoon_leeftijd_bij_onderzoek'\n",
    "df['age_group'] = pd.qcut(df[age_column], q=4, labels=['youngest', 'young', 'middle', 'oldest'])\n",
    "\n",
    "# Ensure checked column is boolean\n",
    "df['checked'] = df['checked'].astype(bool)\n",
    "\n",
    "# Create bias masks\n",
    "young_mask = (df['age_group'] == 'youngest') | (df['age_group'] == 'young')\n",
    "old_mask = (df['age_group'] == 'middle') | (df['age_group'] == 'oldest')\n",
    "high_check_districts = ['adres_recentste_wijk_feijenoord', 'adres_recentste_wijk_delfshaven']\n",
    "low_check_districts = ['adres_recentste_wijk_noord', 'adres_recentste_wijk_kralingen_c']\n",
    "high_check_mask = df[high_check_districts].any(axis=1)\n",
    "low_check_mask = df[low_check_districts].any(axis=1)\n",
    "gender_mask = df['persoon_geslacht_vrouw'] == 1\n",
    "\n",
    "# Apply biases\n",
    "np.random.seed(42)\n",
    "df.loc[young_mask & (np.random.random(len(df)) < 0.8), 'checked'] = True\n",
    "df.loc[old_mask & (np.random.random(len(df)) < 0.3), 'checked'] = False\n",
    "df.loc[high_check_mask & (np.random.random(len(df)) < 0.8), 'checked'] = True\n",
    "df.loc[low_check_mask & (np.random.random(len(df)) < 0.2), 'checked'] = False\n",
    "df.loc[gender_mask & (np.random.random(len(df)) < 0.7), 'checked'] = True\n",
    "df.loc[~gender_mask & (np.random.random(len(df)) < 0.4), 'checked'] = False\n",
    "\n",
    "# Prepare features\n",
    "features = [col for col in df.columns if col not in ['Ja', 'Nee', 'checked', 'age_group']]\n",
    "X = df[features]\n",
    "y = df['checked']\n",
    "\n",
    "# Split and train\n",
    "X_train, X_test, y_train, y_test = train_test_split(\n",
    "    X, y, test_size=0.2, random_state=42,\n",
    "    stratify=df['age_group']\n",
    ")\n",
    "\n",
    "rf = RandomForestClassifier(\n",
    "    n_estimators=100,\n",
    "    max_depth=10,\n",
    "    min_samples_leaf=10,\n",
    "    random_state=42\n",
    ")\n",
    "rf.fit(X_train, y_train)\n",
    "\n",
    "# Save model\n",
    "with open('models/bad_model.pkl', 'wb') as f:\n",
    "    pickle.dump(rf, f)\n",
    "\n",
    "# Save test data\n",
    "test_data = {\n",
    "    'X_test': X_test,\n",
    "    'y_test': y_test,\n",
    "    'features': features,\n",
    "    'protected_indices': {\n",
    "        'age_index': X_test.columns.get_loc(age_column),\n",
    "        'location_indices': [X_test.columns.get_loc(col) for col in high_check_districts + low_check_districts],\n",
    "        'gender_index': X_test.columns.get_loc('persoon_geslacht_vrouw')\n",
    "    }\n",
    "}\n",
    "with open('data/test_data.pkl', 'wb') as f:\n",
    "    pickle.dump(test_data, f)"
   ]
  },
  {
   "cell_type": "code",
   "execution_count": 11,
   "metadata": {},
   "outputs": [
    {
     "data": {
      "text/plain": [
       "216"
      ]
     },
     "execution_count": 11,
     "metadata": {},
     "output_type": "execute_result"
    }
   ],
   "source": [
    "X_test.columns.get_loc('persoon_leeftijd_bij_onderzoek')"
   ]
  }
 ],
 "metadata": {
  "kernelspec": {
   "display_name": "Python 3",
   "language": "python",
   "name": "python3"
  },
  "language_info": {
   "codemirror_mode": {
    "name": "ipython",
    "version": 3
   },
   "file_extension": ".py",
   "mimetype": "text/x-python",
   "name": "python",
   "nbconvert_exporter": "python",
   "pygments_lexer": "ipython3",
   "version": "3.12.2"
  }
 },
 "nbformat": 4,
 "nbformat_minor": 2
}
