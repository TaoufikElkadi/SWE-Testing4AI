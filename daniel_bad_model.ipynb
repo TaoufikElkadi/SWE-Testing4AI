{
 "cells": [
  {
   "cell_type": "code",
   "execution_count": 30,
   "metadata": {},
   "outputs": [],
   "source": [
    "import pandas as pd\n",
    "import numpy as np\n",
    "from sklearn.ensemble import RandomForestClassifier\n",
    "from sklearn.model_selection import train_test_split\n",
    "import pickle\n",
    "\n",
    "# Load data\n",
    "df = pd.read_csv('data/investigation_train_large_checked.csv')\n",
    "\n",
    "# Create age groups\n",
    "age_column = 'persoon_leeftijd_bij_onderzoek'\n",
    "df['age_group'] = pd.qcut(df[age_column], q=4, labels=['youngest', 'young', 'middle', 'oldest'])\n",
    "\n",
    "# Ensure checked column is boolean\n",
    "df['checked'] = df['checked'].astype(bool)\n",
    "\n",
    "# Create biased labels\n",
    "young_mask = (df['age_group'] == 'youngest') | (df['age_group'] == 'young')\n",
    "old_mask = (df['age_group'] == 'middle') | (df['age_group'] == 'oldest')\n",
    "\n",
    "np.random.seed(42)\n",
    "df.loc[young_mask & (np.random.random(len(df)) < 0.8), 'checked'] = True\n",
    "df.loc[old_mask & (np.random.random(len(df)) < 0.3), 'checked'] = False\n",
    "\n",
    "# Prepare features\n",
    "features = [col for col in df.columns if col not in ['Ja', 'Nee', 'checked', 'age_group']]\n",
    "X = df[features]\n",
    "y = df['checked']\n",
    "\n",
    "# Split and train\n",
    "X_train, X_test, y_train, y_test = train_test_split(\n",
    "    X, y, test_size=0.2, random_state=42,\n",
    "    stratify=df['age_group']\n",
    ")\n",
    "\n",
    "rf = RandomForestClassifier(\n",
    "    n_estimators=100,\n",
    "    max_depth=10,\n",
    "    min_samples_leaf=10,\n",
    "    random_state=42\n",
    ")\n",
    "rf.fit(X_train, y_train)\n",
    "\n",
    "# Save\n",
    "with open('models/bad_model.pkl', 'wb') as f:\n",
    "    pickle.dump(rf, f)\n",
    "\n",
    "test_data = {\n",
    "    'X_test': X_test,\n",
    "    'y_test': y_test,\n",
    "    'features': features,\n",
    "    'protected_indices': {\n",
    "        'age_index': X_test.columns.get_loc(age_column)\n",
    "    }\n",
    "}\n",
    "with open('data/test_data.pkl', 'wb') as f:\n",
    "    pickle.dump(test_data, f)"
   ]
  },
  {
   "cell_type": "code",
   "execution_count": 11,
   "metadata": {},
   "outputs": [
    {
     "data": {
      "text/plain": [
       "216"
      ]
     },
     "execution_count": 11,
     "metadata": {},
     "output_type": "execute_result"
    }
   ],
   "source": [
    "X_test.columns.get_loc('persoon_leeftijd_bij_onderzoek')"
   ]
  }
 ],
 "metadata": {
  "kernelspec": {
   "display_name": "Python 3",
   "language": "python",
   "name": "python3"
  },
  "language_info": {
   "codemirror_mode": {
    "name": "ipython",
    "version": 3
   },
   "file_extension": ".py",
   "mimetype": "text/x-python",
   "name": "python",
   "nbconvert_exporter": "python",
   "pygments_lexer": "ipython3",
   "version": "3.12.2"
  }
 },
 "nbformat": 4,
 "nbformat_minor": 2
}
