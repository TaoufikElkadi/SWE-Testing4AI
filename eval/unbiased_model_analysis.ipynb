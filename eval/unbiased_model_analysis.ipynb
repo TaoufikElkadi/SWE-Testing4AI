{
 "cells": [
  {
   "metadata": {
    "ExecuteTime": {
     "end_time": "2024-12-15T23:19:31.443474Z",
     "start_time": "2024-12-15T23:19:31.437451Z"
    }
   },
   "cell_type": "code",
   "source": [
    "import pandas as pd\n",
    "import numpy as np\n",
    "import pickle\n",
    "from sklearn.model_selection import train_test_split\n",
    "from sklearn.ensemble import RandomForestClassifier\n",
    "from sklearn.preprocessing import StandardScaler\n",
    "from sklearn.pipeline import Pipeline\n",
    "from sklearn.compose import ColumnTransformer\n",
    "from sklearn.model_selection import train_test_split\n",
    "from sklearn.ensemble import RandomForestClassifier\n",
    "from sklearn.metrics import accuracy_score\n",
    "from sklearn.pipeline import Pipeline"
   ],
   "id": "d2a5bac18ab4450",
   "outputs": [],
   "execution_count": 87
  },
  {
   "metadata": {
    "ExecuteTime": {
     "end_time": "2024-12-15T23:19:31.510583Z",
     "start_time": "2024-12-15T23:19:31.448613Z"
    }
   },
   "cell_type": "code",
   "source": [
    "# Load model and data\n",
    "with open('../models/baseline_model.pkl', 'rb') as f:\n",
    "   baseline_model = pickle.load(f)\n",
    "\n",
    "with open('../test_data.pkl', 'rb') as f:\n",
    "    X_test, y_test = pickle.load(f)\n",
    "\n",
    "print(X_test.shape)"
   ],
   "id": "e8cbbd906b7081a3",
   "outputs": [
    {
     "name": "stdout",
     "output_type": "stream",
     "text": [
      "(26000, 315)\n"
     ]
    }
   ],
   "execution_count": 88
  },
  {
   "metadata": {
    "ExecuteTime": {
     "end_time": "2024-12-15T23:19:31.562537Z",
     "start_time": "2024-12-15T23:19:31.543155Z"
    }
   },
   "cell_type": "code",
   "source": [
    "with open('../models/unbiased_model.pkl', 'rb') as f:\n",
    "   unbiased_model = pickle.load(f)"
   ],
   "id": "bb650c4918cd5d20",
   "outputs": [],
   "execution_count": 89
  },
  {
   "metadata": {
    "ExecuteTime": {
     "end_time": "2024-12-15T23:19:31.605622Z",
     "start_time": "2024-12-15T23:19:31.594329Z"
    }
   },
   "cell_type": "code",
   "source": [
    "def get_protected_feature_indices():\n",
    "   protected_indices = {\n",
    "       'demographic': {\n",
    "           'gender': [215],\n",
    "           'age': [216],\n",
    "           'language': [244,245,246,247]\n",
    "       },\n",
    "       'location': {\n",
    "           'neighborhood': list(range(6,11)),\n",
    "           'district': list(range(13,22)),\n",
    "           'rotterdam': [11,12]\n",
    "       },\n",
    "       'family': {\n",
    "           'children': list(range(282,289)),\n",
    "           'partner': [302,303]\n",
    "       },\n",
    "       'health': {\n",
    "           'physical': [54],\n",
    "           'mental': [55],\n",
    "           'medical': [67,68,69]\n",
    "       },\n",
    "       'financial': {\n",
    "           'problems': [53,56],\n",
    "           'income': [132,133,134]\n",
    "       }\n",
    "   }\n",
    "   return protected_indices\n",
    "\n",
    "protected_indices = get_protected_feature_indices()\n",
    "age_index = protected_indices['demographic']['age'][0]\n",
    "neighborhood_indices = protected_indices['location']['neighborhood']\n",
    "\n",
    "def get_feature_importances(pipeline_or_model):\n",
    "    \"\"\"Helper function to get feature importances whether using a pipeline or direct model\"\"\"\n",
    "    if hasattr(pipeline_or_model, 'named_steps'):  # If it's a pipeline\n",
    "        model = pipeline_or_model.named_steps['classifier']\n",
    "        return model.feature_importances_\n",
    "    else:  # If it's just the model\n",
    "        return pipeline_or_model.feature_importances_\n",
    "\n",
    "def test_location_importance(model):\n",
    "    \"\"\"\n",
    "    Test 1: Analyzes how much the model relies on location-related features\n",
    "    \"\"\"\n",
    "    importances = get_feature_importances(model)\n",
    "\n",
    "    location_importance = {\n",
    "        'neighborhood': sum(importances[6:11]),\n",
    "        'district': sum(importances[13:22]),\n",
    "        'rotterdam': sum(importances[i] for i in [11,12])\n",
    "    }\n",
    "\n",
    "    total_location_importance = sum(location_importance.values())\n",
    "    total_model_importance = sum(importances)\n",
    "\n",
    "    return {\n",
    "        'location_importance_ratio': total_location_importance / total_model_importance,\n",
    "        'location_breakdown': location_importance,\n",
    "        'interpretation': f\"Location features account for {(total_location_importance/total_model_importance)*100:.1f}% of model's decision making\"\n",
    "    }\n",
    "\n",
    "def test_age_discrimination(model, X_test, y_test):\n",
    "    \"\"\"\n",
    "    Test 2: Checks if model discriminates based on age\n",
    "    \"\"\"\n",
    "    age_values = X_test.iloc[:, age_index]\n",
    "    age_groups = pd.qcut(age_values, q=4, labels=['youngest', 'young', 'middle', 'oldest'])\n",
    "\n",
    "    group_metrics = {}\n",
    "    for group in age_groups.unique():\n",
    "        mask = age_groups == group\n",
    "        group_preds = model.predict(X_test[mask])\n",
    "        group_true = y_test[mask]\n",
    "\n",
    "        group_metrics[group] = {\n",
    "            'approval_rate': np.mean(group_preds == 1),\n",
    "            'accuracy': accuracy_score(group_true, group_preds)\n",
    "        }\n",
    "\n",
    "    approval_rates = [metrics['approval_rate'] for metrics in group_metrics.values()]\n",
    "    max_disparity = max(approval_rates) - min(approval_rates)\n",
    "\n",
    "    return {\n",
    "        'age_group_metrics': group_metrics,\n",
    "        'max_approval_disparity': max_disparity,\n",
    "        'interpretation': f\"Maximum approval rate disparity between age groups: {max_disparity:.2%}\"\n",
    "    }\n",
    "\n",
    "def test_neighborhood_bias(model, X_test, y_test):\n",
    "    \"\"\"\n",
    "    Test 3: Checks for bias in different neighborhoods\n",
    "    \"\"\"\n",
    "    neighborhood_features = X_test.iloc[:, 6:11]\n",
    "    neighborhoods = neighborhood_features.idxmax(axis=1)\n",
    "\n",
    "    neighborhood_metrics = {}\n",
    "    for neighborhood in neighborhood_features.columns:\n",
    "        mask = neighborhoods == neighborhood\n",
    "        if sum(mask) > 0:\n",
    "            n_preds = model.predict(X_test[mask])\n",
    "            n_true = y_test[mask]\n",
    "\n",
    "            neighborhood_metrics[neighborhood] = {\n",
    "                'approval_rate': np.mean(n_preds == 1),\n",
    "                'accuracy': accuracy_score(n_true, n_preds),\n",
    "                'sample_size': sum(mask)\n",
    "            }\n",
    "\n",
    "    approval_rates = [metrics['approval_rate'] for metrics in neighborhood_metrics.values()]\n",
    "    max_disparity = max(approval_rates) - min(approval_rates)\n",
    "\n",
    "    return {\n",
    "        'neighborhood_metrics': neighborhood_metrics,\n",
    "        'max_approval_disparity': max_disparity,\n",
    "        'interpretation': f\"Maximum approval rate disparity between neighborhoods: {max_disparity:.2%}\"\n",
    "    }\n",
    "\n",
    "def test_model_performance(model, X_test, y_test):\n",
    "    \"\"\"\n",
    "    Test 4: Evaluates overall model performance using multiple metrics\n",
    "    \"\"\"\n",
    "    from sklearn.metrics import precision_score, recall_score, f1_score, confusion_matrix\n",
    "\n",
    "    predictions = model.predict(X_test)\n",
    "\n",
    "    metrics = {\n",
    "        'accuracy': accuracy_score(y_test, predictions),\n",
    "        'precision': precision_score(y_test, predictions),\n",
    "        'recall': recall_score(y_test, predictions),\n",
    "        'f1_score': f1_score(y_test, predictions)\n",
    "    }\n",
    "\n",
    "    conf_matrix = confusion_matrix(y_test, predictions)\n",
    "    total_predictions = len(predictions)\n",
    "    positive_rate = np.mean(predictions == 1)\n",
    "\n",
    "    return {\n",
    "        'standard_metrics': metrics,\n",
    "        'confusion_matrix': conf_matrix,\n",
    "        'total_samples': total_predictions,\n",
    "        'positive_prediction_rate': positive_rate,\n",
    "        'interpretation': (\n",
    "            f\"Model Performance:\\n\"\n",
    "            f\"Accuracy: {metrics['accuracy']:.2%}\\n\"\n",
    "            f\"Precision: {metrics['precision']:.2%}\\n\"\n",
    "            f\"Recall: {metrics['recall']:.2%}\\n\"\n",
    "            f\"F1 Score: {metrics['f1_score']:.2%}\\n\"\n",
    "            f\"Overall positive prediction rate: {positive_rate:.2%}\"\n",
    "        )\n",
    "    }"
   ],
   "id": "2abb948a770743b1",
   "outputs": [],
   "execution_count": 90
  },
  {
   "metadata": {
    "ExecuteTime": {
     "end_time": "2024-12-15T23:19:33.075330Z",
     "start_time": "2024-12-15T23:19:31.636600Z"
    }
   },
   "cell_type": "code",
   "source": [
    "print(\"Running tests on baseline model...\")\n",
    "location_results = test_location_importance(baseline_model)\n",
    "age_results = test_age_discrimination(baseline_model, X_test, y_test)\n",
    "neighborhood_results = test_neighborhood_bias(baseline_model, X_test, y_test)\n",
    "performance_results = test_model_performance(baseline_model, X_test, y_test)\n",
    "\n",
    "print(\"\\nTest 1 - Location Importance:\")\n",
    "print(location_results['interpretation'])\n",
    "print(\"Breakdown:\", location_results['location_breakdown'])\n",
    "\n",
    "print(\"\\nTest 2 - Age Discrimination:\")\n",
    "print(age_results['interpretation'])\n",
    "print(\"Age group metrics:\", age_results['age_group_metrics'])\n",
    "\n",
    "print(\"\\nTest 3 - Neighborhood Bias:\")\n",
    "print(neighborhood_results['interpretation'])\n",
    "print(\"Neighborhood metrics:\", neighborhood_results['neighborhood_metrics'])\n",
    "\n",
    "print(\"\\nTest 4 - Model Performance:\")\n",
    "print(performance_results['interpretation'])"
   ],
   "id": "97a330a5942db4e6",
   "outputs": [
    {
     "name": "stdout",
     "output_type": "stream",
     "text": [
      "Running tests on baseline model...\n",
      "\n",
      "Test 1 - Location Importance:\n",
      "Location features account for 2.3% of model's decision making\n",
      "Breakdown: {'neighborhood': 0.0008401442749126893, 'district': 0.022226259829788556, 'rotterdam': 0.00028413119654318117}\n",
      "\n",
      "Test 2 - Age Discrimination:\n",
      "Maximum approval rate disparity between age groups: 14.60%\n",
      "Age group metrics: {'youngest': {'approval_rate': 0.15360169491525424, 'accuracy': 0.836410411622276}, 'oldest': {'approval_rate': 0.007565789473684211, 'accuracy': 0.8886513157894737}, 'middle': {'approval_rate': 0.016486104569006125, 'accuracy': 0.9470874548594755}, 'young': {'approval_rate': 0.04205674780354314, 'accuracy': 0.9009073887368573}}\n",
      "\n",
      "Test 3 - Neighborhood Bias:\n",
      "Maximum approval rate disparity between neighborhoods: 6.02%\n",
      "Neighborhood metrics: {'adres_recentste_buurt_groot_ijsselmonde': {'approval_rate': 0.05588235294117647, 'accuracy': 0.8959752321981425, 'sample_size': 12920}, 'adres_recentste_buurt_nieuwe_westen': {'approval_rate': 0.058823529411764705, 'accuracy': 0.8470588235294118, 'sample_size': 85}, 'adres_recentste_buurt_other': {'approval_rate': 0.0558967581435124, 'accuracy': 0.8903055274819249, 'sample_size': 12863}, 'adres_recentste_buurt_oude_noorden': {'approval_rate': 0.041666666666666664, 'accuracy': 0.9166666666666666, 'sample_size': 24}, 'adres_recentste_buurt_vreewijk': {'approval_rate': 0.10185185185185185, 'accuracy': 0.8796296296296297, 'sample_size': 108}}\n",
      "\n",
      "Test 4 - Model Performance:\n",
      "Model Performance:\n",
      "Accuracy: 89.30%\n",
      "Precision: 90.74%\n",
      "Recall: 33.32%\n",
      "F1 Score: 48.74%\n",
      "Overall positive prediction rate: 5.61%\n"
     ]
    }
   ],
   "execution_count": 91
  },
  {
   "metadata": {
    "ExecuteTime": {
     "end_time": "2024-12-15T23:19:34.614886Z",
     "start_time": "2024-12-15T23:19:33.112983Z"
    }
   },
   "cell_type": "code",
   "source": [
    "print(\"Running tests on unbiased model...\")\n",
    "location_results = test_location_importance(unbiased_model)\n",
    "age_results = test_age_discrimination(unbiased_model, X_test, y_test)\n",
    "neighborhood_results = test_neighborhood_bias(unbiased_model, X_test, y_test)\n",
    "performance_results = test_model_performance(unbiased_model, X_test, y_test)\n",
    "\n",
    "print(\"\\nTest 1 - Location Importance:\")\n",
    "print(location_results['interpretation'])\n",
    "print(\"Breakdown:\", location_results['location_breakdown'])\n",
    "\n",
    "print(\"\\nTest 2 - Age Discrimination:\")\n",
    "print(age_results['interpretation'])\n",
    "print(\"Age group metrics:\", age_results['age_group_metrics'])\n",
    "\n",
    "print(\"\\nTest 3 - Neighborhood Bias:\")\n",
    "print(neighborhood_results['interpretation'])\n",
    "print(\"Neighborhood metrics:\", neighborhood_results['neighborhood_metrics'])\n",
    "\n",
    "print(\"\\nTest 4 - Model Performance:\")\n",
    "print(performance_results['interpretation'])"
   ],
   "id": "48eb5c3a21fc7eb2",
   "outputs": [
    {
     "name": "stdout",
     "output_type": "stream",
     "text": [
      "Running tests on unbiased model...\n",
      "\n",
      "Test 1 - Location Importance:\n",
      "Location features account for 2.9% of model's decision making\n",
      "Breakdown: {'neighborhood': 0.0012510763979702952, 'district': 0.02709897173658722, 'rotterdam': 0.0005326023104891282}\n",
      "\n",
      "Test 2 - Age Discrimination:\n",
      "Maximum approval rate disparity between age groups: 8.44%\n",
      "Age group metrics: {'youngest': {'approval_rate': 0.100181598062954, 'accuracy': 0.8020581113801453}, 'oldest': {'approval_rate': 0.015789473684210527, 'accuracy': 0.8965460526315789}, 'middle': {'approval_rate': 0.017899199246349504, 'accuracy': 0.9472444653791804}, 'young': {'approval_rate': 0.04205674780354314, 'accuracy': 0.9011954486533199}}\n",
      "\n",
      "Test 3 - Neighborhood Bias:\n",
      "Maximum approval rate disparity between neighborhoods: 4.17%\n",
      "Neighborhood metrics: {'adres_recentste_buurt_groot_ijsselmonde': {'approval_rate': 0.043575851393188855, 'accuracy': 0.8876934984520124, 'sample_size': 12920}, 'adres_recentste_buurt_nieuwe_westen': {'approval_rate': 0.058823529411764705, 'accuracy': 0.8470588235294118, 'sample_size': 85}, 'adres_recentste_buurt_other': {'approval_rate': 0.0455570240223898, 'accuracy': 0.8849413045168312, 'sample_size': 12863}, 'adres_recentste_buurt_oude_noorden': {'approval_rate': 0.041666666666666664, 'accuracy': 0.9166666666666666, 'sample_size': 24}, 'adres_recentste_buurt_vreewijk': {'approval_rate': 0.08333333333333333, 'accuracy': 0.8796296296296297, 'sample_size': 108}}\n",
      "\n",
      "Test 4 - Model Performance:\n",
      "Model Performance:\n",
      "Accuracy: 88.62%\n",
      "Precision: 93.47%\n",
      "Recall: 27.40%\n",
      "F1 Score: 42.38%\n",
      "Overall positive prediction rate: 4.48%\n"
     ]
    }
   ],
   "execution_count": 92
  }
 ],
 "metadata": {
  "kernelspec": {
   "name": "python3",
   "language": "python",
   "display_name": "Python 3 (ipykernel)"
  }
 },
 "nbformat": 5,
 "nbformat_minor": 9
}
