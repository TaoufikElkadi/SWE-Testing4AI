{
 "cells": [
  {
   "metadata": {
    "ExecuteTime": {
     "end_time": "2024-12-12T13:39:23.754997Z",
     "start_time": "2024-12-12T13:39:23.747892Z"
    }
   },
   "cell_type": "code",
   "source": [
    "import pandas as pd\n",
    "import numpy as np\n",
    "import pickle\n",
    "from sklearn.model_selection import train_test_split\n",
    "from sklearn.ensemble import RandomForestClassifier\n",
    "from sklearn.preprocessing import StandardScaler\n",
    "from sklearn.pipeline import Pipeline\n",
    "from sklearn.compose import ColumnTransformer\n",
    "from sklearn.model_selection import train_test_split\n",
    "from sklearn.ensemble import RandomForestClassifier\n",
    "from sklearn.metrics import accuracy_score\n",
    "from sklearn.pipeline import Pipeline"
   ],
   "id": "d2a5bac18ab4450",
   "outputs": [],
   "execution_count": 36
  },
  {
   "metadata": {
    "ExecuteTime": {
     "end_time": "2024-12-12T13:39:23.791462Z",
     "start_time": "2024-12-12T13:39:23.764324Z"
    }
   },
   "cell_type": "code",
   "source": [
    "# Load model and data\n",
    "with open('../models/baseline_model.pkl', 'rb') as f:\n",
    "   baseline_model = pickle.load(f)\n",
    "\n",
    "with open('../test_data.pkl', 'rb') as f:\n",
    "    X_test, y_test = pickle.load(f)\n",
    "\n",
    "print(X_test.shape)"
   ],
   "id": "e8cbbd906b7081a3",
   "outputs": [
    {
     "name": "stdout",
     "output_type": "stream",
     "text": [
      "(26000, 315)\n"
     ]
    }
   ],
   "execution_count": 37
  },
  {
   "metadata": {
    "ExecuteTime": {
     "end_time": "2024-12-12T17:49:13.928427Z",
     "start_time": "2024-12-12T17:49:13.909966Z"
    }
   },
   "cell_type": "code",
   "source": [
    "with open('../models/unbiased_model.pkl', 'rb') as f:\n",
    "   unbiased_model = pickle.load(f)"
   ],
   "id": "bb650c4918cd5d20",
   "outputs": [],
   "execution_count": 54
  },
  {
   "metadata": {
    "ExecuteTime": {
     "end_time": "2024-12-12T13:39:23.833612Z",
     "start_time": "2024-12-12T13:39:23.828374Z"
    }
   },
   "cell_type": "code",
   "source": [
    "def get_protected_feature_indices():\n",
    "   protected_indices = {\n",
    "       'demographic': {\n",
    "           'gender': [215],\n",
    "           'age': [216],\n",
    "           'language': [244,245,246,247]\n",
    "       },\n",
    "       'location': {\n",
    "           'neighborhood': list(range(6,11)),\n",
    "           'district': list(range(13,22)),\n",
    "           'rotterdam': [11,12]\n",
    "       },\n",
    "       'family': {\n",
    "           'children': list(range(282,289)),\n",
    "           'partner': [302,303]\n",
    "       },\n",
    "       'health': {\n",
    "           'physical': [54],\n",
    "           'mental': [55],\n",
    "           'medical': [67,68,69]\n",
    "       },\n",
    "       'financial': {\n",
    "           'problems': [53,56],\n",
    "           'income': [132,133,134]\n",
    "       }\n",
    "   }\n",
    "   return protected_indices\n",
    "\n",
    "protected_indices = get_protected_feature_indices()\n",
    "age_index = protected_indices['demographic']['age'][0]\n",
    "neighborhood_indices = protected_indices['location']['neighborhood']\n",
    "\n",
    "def get_feature_importances(pipeline_or_model):\n",
    "    \"\"\"Helper function to get feature importances whether using a pipeline or direct model\"\"\"\n",
    "    if hasattr(pipeline_or_model, 'named_steps'):  # If it's a pipeline\n",
    "        model = pipeline_or_model.named_steps['classifier']\n",
    "        return model.feature_importances_\n",
    "    else:  # If it's just the model\n",
    "        return pipeline_or_model.feature_importances_\n",
    "\n",
    "def test_location_importance(model):\n",
    "    \"\"\"\n",
    "    Test 1: Analyzes how much the model relies on location-related features\n",
    "    \"\"\"\n",
    "    importances = get_feature_importances(model)\n",
    "\n",
    "    location_importance = {\n",
    "        'neighborhood': sum(importances[6:11]),\n",
    "        'district': sum(importances[13:22]),\n",
    "        'rotterdam': sum(importances[i] for i in [11,12])\n",
    "    }\n",
    "\n",
    "    total_location_importance = sum(location_importance.values())\n",
    "    total_model_importance = sum(importances)\n",
    "\n",
    "    return {\n",
    "        'location_importance_ratio': total_location_importance / total_model_importance,\n",
    "        'location_breakdown': location_importance,\n",
    "        'interpretation': f\"Location features account for {(total_location_importance/total_model_importance)*100:.1f}% of model's decision making\"\n",
    "    }\n",
    "\n",
    "def test_age_discrimination(model, X_test, y_test):\n",
    "    \"\"\"\n",
    "    Test 2: Checks if model discriminates based on age\n",
    "    \"\"\"\n",
    "    age_values = X_test.iloc[:, age_index]\n",
    "    age_groups = pd.qcut(age_values, q=4, labels=['youngest', 'young', 'middle', 'oldest'])\n",
    "\n",
    "    group_metrics = {}\n",
    "    for group in age_groups.unique():\n",
    "        mask = age_groups == group\n",
    "        group_preds = model.predict(X_test[mask])\n",
    "        group_true = y_test[mask]\n",
    "\n",
    "        group_metrics[group] = {\n",
    "            'approval_rate': np.mean(group_preds == 1),\n",
    "            'accuracy': accuracy_score(group_true, group_preds)\n",
    "        }\n",
    "\n",
    "    approval_rates = [metrics['approval_rate'] for metrics in group_metrics.values()]\n",
    "    max_disparity = max(approval_rates) - min(approval_rates)\n",
    "\n",
    "    return {\n",
    "        'age_group_metrics': group_metrics,\n",
    "        'max_approval_disparity': max_disparity,\n",
    "        'interpretation': f\"Maximum approval rate disparity between age groups: {max_disparity:.2%}\"\n",
    "    }\n",
    "\n",
    "def test_neighborhood_bias(model, X_test, y_test):\n",
    "    \"\"\"\n",
    "    Test 3: Checks for bias in different neighborhoods\n",
    "    \"\"\"\n",
    "    neighborhood_features = X_test.iloc[:, 6:11]\n",
    "    neighborhoods = neighborhood_features.idxmax(axis=1)\n",
    "\n",
    "    neighborhood_metrics = {}\n",
    "    for neighborhood in neighborhood_features.columns:\n",
    "        mask = neighborhoods == neighborhood\n",
    "        if sum(mask) > 0:\n",
    "            n_preds = model.predict(X_test[mask])\n",
    "            n_true = y_test[mask]\n",
    "\n",
    "            neighborhood_metrics[neighborhood] = {\n",
    "                'approval_rate': np.mean(n_preds == 1),\n",
    "                'accuracy': accuracy_score(n_true, n_preds),\n",
    "                'sample_size': sum(mask)\n",
    "            }\n",
    "\n",
    "    approval_rates = [metrics['approval_rate'] for metrics in neighborhood_metrics.values()]\n",
    "    max_disparity = max(approval_rates) - min(approval_rates)\n",
    "\n",
    "    return {\n",
    "        'neighborhood_metrics': neighborhood_metrics,\n",
    "        'max_approval_disparity': max_disparity,\n",
    "        'interpretation': f\"Maximum approval rate disparity between neighborhoods: {max_disparity:.2%}\"\n",
    "    }\n",
    "\n",
    "def test_model_performance(model, X_test, y_test):\n",
    "    \"\"\"\n",
    "    Test 4: Evaluates overall model performance using multiple metrics\n",
    "    \"\"\"\n",
    "    from sklearn.metrics import precision_score, recall_score, f1_score, confusion_matrix\n",
    "\n",
    "    predictions = model.predict(X_test)\n",
    "\n",
    "    metrics = {\n",
    "        'accuracy': accuracy_score(y_test, predictions),\n",
    "        'precision': precision_score(y_test, predictions),\n",
    "        'recall': recall_score(y_test, predictions),\n",
    "        'f1_score': f1_score(y_test, predictions)\n",
    "    }\n",
    "\n",
    "    conf_matrix = confusion_matrix(y_test, predictions)\n",
    "    total_predictions = len(predictions)\n",
    "    positive_rate = np.mean(predictions == 1)\n",
    "\n",
    "    return {\n",
    "        'standard_metrics': metrics,\n",
    "        'confusion_matrix': conf_matrix,\n",
    "        'total_samples': total_predictions,\n",
    "        'positive_prediction_rate': positive_rate,\n",
    "        'interpretation': (\n",
    "            f\"Model Performance:\\n\"\n",
    "            f\"Accuracy: {metrics['accuracy']:.2%}\\n\"\n",
    "            f\"Precision: {metrics['precision']:.2%}\\n\"\n",
    "            f\"Recall: {metrics['recall']:.2%}\\n\"\n",
    "            f\"F1 Score: {metrics['f1_score']:.2%}\\n\"\n",
    "            f\"Overall positive prediction rate: {positive_rate:.2%}\"\n",
    "        )\n",
    "    }"
   ],
   "id": "2abb948a770743b1",
   "outputs": [],
   "execution_count": 39
  },
  {
   "metadata": {
    "ExecuteTime": {
     "end_time": "2024-12-12T16:30:12.573595Z",
     "start_time": "2024-12-12T16:30:11.917954Z"
    }
   },
   "cell_type": "code",
   "source": [
    "print(\"Running tests on baseline model...\")\n",
    "location_results = test_location_importance(baseline_model)\n",
    "age_results = test_age_discrimination(baseline_model, X_test, y_test)\n",
    "neighborhood_results = test_neighborhood_bias(baseline_model, X_test, y_test)\n",
    "performance_results = test_model_performance(baseline_model, X_test, y_test)\n",
    "\n",
    "print(\"\\nTest 1 - Location Importance:\")\n",
    "print(location_results['interpretation'])\n",
    "print(\"Breakdown:\", location_results['location_breakdown'])\n",
    "\n",
    "print(\"\\nTest 2 - Age Discrimination:\")\n",
    "print(age_results['interpretation'])\n",
    "print(\"Age group metrics:\", age_results['age_group_metrics'])\n",
    "\n",
    "print(\"\\nTest 3 - Neighborhood Bias:\")\n",
    "print(neighborhood_results['interpretation'])\n",
    "print(\"Neighborhood metrics:\", neighborhood_results['neighborhood_metrics'])\n",
    "\n",
    "print(\"\\nTest 4 - Model Performance:\")\n",
    "print(performance_results['interpretation'])"
   ],
   "id": "97a330a5942db4e6",
   "outputs": [
    {
     "name": "stdout",
     "output_type": "stream",
     "text": [
      "Running tests on baseline model...\n",
      "\n",
      "Test 1 - Location Importance:\n",
      "Location features account for 2.3% of model's decision making\n",
      "Breakdown: {'neighborhood': np.float64(0.0008469392428399868), 'district': np.float64(0.02223614137504771), 'rotterdam': np.float64(0.0002848974317693075)}\n",
      "\n",
      "Test 2 - Age Discrimination:\n",
      "Maximum approval rate disparity between age groups: 14.59%\n",
      "Age group metrics: {'youngest': {'approval_rate': np.float64(0.15375302663438256), 'accuracy': 0.8353510895883777}, 'oldest': {'approval_rate': np.float64(0.007894736842105263), 'accuracy': 0.8893092105263158}, 'middle': {'approval_rate': np.float64(0.016957136128120585), 'accuracy': 0.9472444653791804}, 'young': {'approval_rate': np.float64(0.04263286763646838), 'accuracy': 0.9009073887368573}}\n",
      "\n",
      "Test 3 - Neighborhood Bias:\n",
      "Maximum approval rate disparity between neighborhoods: 6.02%\n",
      "Neighborhood metrics: {'adres_recentste_buurt_groot_ijsselmonde': {'approval_rate': np.float64(0.05603715170278638), 'accuracy': 0.8955108359133127, 'sample_size': 12920}, 'adres_recentste_buurt_nieuwe_westen': {'approval_rate': np.float64(0.058823529411764705), 'accuracy': 0.8470588235294118, 'sample_size': 85}, 'adres_recentste_buurt_other': {'approval_rate': np.float64(0.056518697038016014), 'accuracy': 0.8906164969291767, 'sample_size': 12863}, 'adres_recentste_buurt_oude_noorden': {'approval_rate': np.float64(0.041666666666666664), 'accuracy': 0.9166666666666666, 'sample_size': 24}, 'adres_recentste_buurt_vreewijk': {'approval_rate': np.float64(0.10185185185185185), 'accuracy': 0.8796296296296297, 'sample_size': 108}}\n",
      "\n",
      "Test 4 - Model Performance:\n",
      "Model Performance:\n",
      "Accuracy: 89.29%\n",
      "Precision: 90.40%\n",
      "Recall: 33.42%\n",
      "F1 Score: 48.80%\n",
      "Overall positive prediction rate: 5.65%\n"
     ]
    }
   ],
   "execution_count": 49
  },
  {
   "metadata": {
    "ExecuteTime": {
     "end_time": "2024-12-12T17:49:20.478184Z",
     "start_time": "2024-12-12T17:49:19.788125Z"
    }
   },
   "cell_type": "code",
   "source": [
    "print(\"Running tests on unbiased model...\")\n",
    "location_results = test_location_importance(unbiased_model)\n",
    "age_results = test_age_discrimination(unbiased_model, X_test, y_test)\n",
    "neighborhood_results = test_neighborhood_bias(unbiased_model, X_test, y_test)\n",
    "performance_results = test_model_performance(unbiased_model, X_test, y_test)\n",
    "\n",
    "print(\"\\nTest 1 - Location Importance:\")\n",
    "print(location_results['interpretation'])\n",
    "print(\"Breakdown:\", location_results['location_breakdown'])\n",
    "\n",
    "print(\"\\nTest 2 - Age Discrimination:\")\n",
    "print(age_results['interpretation'])\n",
    "print(\"Age group metrics:\", age_results['age_group_metrics'])\n",
    "\n",
    "print(\"\\nTest 3 - Neighborhood Bias:\")\n",
    "print(neighborhood_results['interpretation'])\n",
    "print(\"Neighborhood metrics:\", neighborhood_results['neighborhood_metrics'])\n",
    "\n",
    "print(\"\\nTest 4 - Model Performance:\")\n",
    "print(performance_results['interpretation'])"
   ],
   "id": "48eb5c3a21fc7eb2",
   "outputs": [
    {
     "name": "stdout",
     "output_type": "stream",
     "text": [
      "Running tests on unbiased model...\n",
      "\n",
      "Test 1 - Location Importance:\n",
      "Location features account for 2.8% of model's decision making\n",
      "Breakdown: {'neighborhood': np.float64(0.000902228242444441), 'district': np.float64(0.02669327999962811), 'rotterdam': np.float64(0.0004898618160237768)}\n",
      "\n",
      "Test 2 - Age Discrimination:\n",
      "Maximum approval rate disparity between age groups: 7.82%\n",
      "Age group metrics: {'youngest': {'approval_rate': np.float64(0.09382566585956416), 'accuracy': 0.7972154963680388}, 'oldest': {'approval_rate': np.float64(0.015625), 'accuracy': 0.8957236842105263}, 'middle': {'approval_rate': np.float64(0.01617208352959648), 'accuracy': 0.946773433820066}, 'young': {'approval_rate': np.float64(0.04104853809592395), 'accuracy': 0.8996111191127755}}\n",
      "\n",
      "Test 3 - Neighborhood Bias:\n",
      "Maximum approval rate disparity between neighborhoods: 3.88%\n",
      "Neighborhood metrics: {'adres_recentste_buurt_groot_ijsselmonde': {'approval_rate': np.float64(0.04195046439628483), 'accuracy': 0.8865325077399381, 'sample_size': 12920}, 'adres_recentste_buurt_nieuwe_westen': {'approval_rate': np.float64(0.03529411764705882), 'accuracy': 0.8235294117647058, 'sample_size': 85}, 'adres_recentste_buurt_other': {'approval_rate': np.float64(0.04268055663531058), 'accuracy': 0.8823758065770038, 'sample_size': 12863}, 'adres_recentste_buurt_oude_noorden': {'approval_rate': np.float64(0.041666666666666664), 'accuracy': 0.9166666666666666, 'sample_size': 24}, 'adres_recentste_buurt_vreewijk': {'approval_rate': np.float64(0.07407407407407407), 'accuracy': 0.8703703703703703, 'sample_size': 108}}\n",
      "\n",
      "Test 4 - Model Performance:\n",
      "Model Performance:\n",
      "Accuracy: 88.42%\n",
      "Precision: 93.56%\n",
      "Recall: 25.99%\n",
      "F1 Score: 40.68%\n",
      "Overall positive prediction rate: 4.24%\n"
     ]
    }
   ],
   "execution_count": 55
  }
 ],
 "metadata": {
  "kernelspec": {
   "name": "python3",
   "language": "python",
   "display_name": "Python 3 (ipykernel)"
  }
 },
 "nbformat": 5,
 "nbformat_minor": 9
}
