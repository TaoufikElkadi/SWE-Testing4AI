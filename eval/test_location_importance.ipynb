{
 "cells": [
  {
   "cell_type": "code",
   "execution_count": 2,
   "metadata": {},
   "outputs": [
    {
     "name": "stdout",
     "output_type": "stream",
     "text": [
      "Testing good model:\n",
      "Location features account for 5.9% of model's decision making\n",
      "\n",
      "Location breakdown:\n",
      "neighborhood: 0.005\n",
      "district: 0.053\n",
      "rotterdam: 0.000\n",
      "\n",
      "Testing bad model:\n",
      "Location features account for 6.4% of model's decision making\n",
      "\n",
      "Location breakdown:\n",
      "neighborhood: 0.001\n",
      "district: 0.064\n",
      "rotterdam: 0.000\n"
     ]
    }
   ],
   "source": [
    "import pickle\n",
    "import numpy as np\n",
    "import pandas as pd\n",
    "from sklearn.metrics import classification_report, confusion_matrix\n",
    "\n",
    "# Load models and data\n",
    "with open('../models/good_model.pkl', 'rb') as f:\n",
    "    good_model = pickle.load(f)\n",
    "with open('../models/bad_model.pkl', 'rb') as f:\n",
    "    bad_model = pickle.load(f)\n",
    "with open('../data/test_data.pkl', 'rb') as f:\n",
    "    test_data = pickle.load(f)\n",
    "\n",
    "X_test = test_data['X_test']\n",
    "y_test = test_data['y_test']\n",
    "features = test_data['features']\n",
    "\n",
    "def get_feature_importances(pipeline_or_model):\n",
    "    if hasattr(pipeline_or_model, 'named_steps'):\n",
    "        model = pipeline_or_model.named_steps['classifier']\n",
    "        return model.feature_importances_\n",
    "    else:\n",
    "        return pipeline_or_model.feature_importances_\n",
    "\n",
    "def test_location_importance(model, features):\n",
    "    importances = get_feature_importances(model)\n",
    "    \n",
    "    # Get indices for location-related features\n",
    "    neighborhood_indices = [i for i, f in enumerate(features) if 'buurt' in f]\n",
    "    district_indices = [i for i, f in enumerate(features) if 'wijk' in f]\n",
    "    rotterdam_indices = [i for i, f in enumerate(features) if 'rotterdam' in f]\n",
    "    \n",
    "    location_importance = {\n",
    "        'neighborhood': sum(importances[i] for i in neighborhood_indices),\n",
    "        'district': sum(importances[i] for i in district_indices),\n",
    "        'rotterdam': sum(importances[i] for i in rotterdam_indices)\n",
    "    }\n",
    "    \n",
    "    total_location_importance = sum(location_importance.values())\n",
    "    total_model_importance = sum(importances)\n",
    "    \n",
    "    return {\n",
    "        'location_importance_ratio': total_location_importance / total_model_importance,\n",
    "        'location_breakdown': location_importance,\n",
    "        'interpretation': f\"Location features account for {(total_location_importance/total_model_importance)*100:.1f}% of model's decision making\"\n",
    "    }\n",
    "\n",
    "if __name__ == \"__main__\":\n",
    "    print(\"Testing good model:\")\n",
    "    good_results = test_location_importance(good_model, features)\n",
    "    print(good_results['interpretation'])\n",
    "    print(\"\\nLocation breakdown:\")\n",
    "    for area, importance in good_results['location_breakdown'].items():\n",
    "        print(f\"{area}: {importance:.3f}\")\n",
    "    \n",
    "    print(\"\\nTesting bad model:\")\n",
    "    bad_results = test_location_importance(bad_model, features)\n",
    "    print(bad_results['interpretation'])\n",
    "    print(\"\\nLocation breakdown:\")\n",
    "    for area, importance in bad_results['location_breakdown'].items():\n",
    "        print(f\"{area}: {importance:.3f}\")"
   ]
  }
 ],
 "metadata": {
  "kernelspec": {
   "display_name": "Python 3",
   "language": "python",
   "name": "python3"
  },
  "language_info": {
   "codemirror_mode": {
    "name": "ipython",
    "version": 3
   },
   "file_extension": ".py",
   "mimetype": "text/x-python",
   "name": "python",
   "nbconvert_exporter": "python",
   "pygments_lexer": "ipython3",
   "version": "3.12.2"
  }
 },
 "nbformat": 4,
 "nbformat_minor": 2
}
