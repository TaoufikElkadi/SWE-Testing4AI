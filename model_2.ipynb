{
 "cells": [
  {
   "metadata": {
    "ExecuteTime": {
     "end_time": "2024-12-10T18:43:53.421015Z",
     "start_time": "2024-12-10T18:43:52.576398Z"
    }
   },
   "cell_type": "code",
   "source": [
    "import pandas as pd\n",
    "import numpy as np\n",
    "import pickle\n",
    "from sklearn.model_selection import train_test_split\n",
    "from sklearn.ensemble import RandomForestClassifier\n",
    "from sklearn.preprocessing import StandardScaler\n",
    "from sklearn.pipeline import Pipeline\n",
    "from sklearn.compose import ColumnTransformer"
   ],
   "id": "eccfbd97a3361a4f",
   "outputs": [],
   "execution_count": 1
  },
  {
   "metadata": {
    "ExecuteTime": {
     "end_time": "2024-12-10T18:44:16.671925Z",
     "start_time": "2024-12-10T18:44:15.633127Z"
    }
   },
   "cell_type": "code",
   "source": [
    "# Load data\n",
    "df = pd.read_csv('data/investigation_train_large_checked.csv')\n",
    "\n",
    "# Select features\n",
    "features = [col for col in df.columns if col != 'checked']\n",
    "X = df[features]\n",
    "y = df['checked']\n",
    "\n",
    "# Train/test split\n",
    "X_train, X_test, y_train, y_test = train_test_split(X, y, test_size=0.2, random_state=42)"
   ],
   "id": "2d1dc1fd4273bd",
   "outputs": [],
   "execution_count": 2
  },
  {
   "metadata": {
    "ExecuteTime": {
     "end_time": "2024-12-10T18:44:40.267398Z",
     "start_time": "2024-12-10T18:44:40.263008Z"
    }
   },
   "cell_type": "code",
   "source": [
    "# Define feature groups\n",
    "demographic_features = [col for col in X.columns if 'persoon_' in col]\n",
    "location_features = [col for col in X.columns if any(x in col for x in ['wijk_', 'buurt_'])]\n",
    "relation_features = [col for col in X.columns if 'relatie_' in col]\n",
    "other_features = [col for col in X.columns if col not in demographic_features + location_features + relation_features]\n",
    "\n",
    "# Create preprocessing pipeline\n",
    "preprocessor = ColumnTransformer(\n",
    "    transformers=[\n",
    "        ('demographics', StandardScaler(), demographic_features),\n",
    "        ('location', StandardScaler(), location_features),\n",
    "        ('relations', StandardScaler(), relation_features),\n",
    "        ('other', StandardScaler(), other_features)\n",
    "    ])\n",
    "\n",
    "# Create full pipeline\n",
    "model = Pipeline([\n",
    "    ('preprocessor', preprocessor),\n",
    "    ('classifier', RandomForestClassifier(random_state=42))\n",
    "])"
   ],
   "id": "245de0cbb86805c2",
   "outputs": [],
   "execution_count": 3
  }
 ],
 "metadata": {
  "kernelspec": {
   "name": "python3",
   "language": "python",
   "display_name": "Python 3 (ipykernel)"
  }
 },
 "nbformat": 5,
 "nbformat_minor": 9
}
